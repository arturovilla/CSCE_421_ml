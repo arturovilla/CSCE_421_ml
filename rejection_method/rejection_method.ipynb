{
  "nbformat": 4,
  "nbformat_minor": 0,
  "metadata": {
    "colab": {
      "name": "rejection-method.ipynb",
      "provenance": [],
      "collapsed_sections": []
    },
    "kernelspec": {
      "name": "python3",
      "display_name": "Python 3"
    },
    "language_info": {
      "name": "python"
    }
  },
  "cells": [
    {
      "cell_type": "code",
      "metadata": {
        "colab": {
          "base_uri": "https://localhost:8080/"
        },
        "id": "rG654xcBqJhN",
        "outputId": "e8480164-af78-44a0-d3e7-2b217aa5fc47"
      },
      "source": [
        "import numpy as np\n",
        "import matplotlib.pyplot as plt\n",
        "import random\n",
        "\n",
        "#########################################################################\n",
        "# function: accept_with\n",
        "def accept_with(prob):\n",
        "  '''\n",
        "  accept with the given probability \"prob\".\n",
        "  - returns 1 = accept\n",
        "  - returns 0 = reject\n",
        "  '''\n",
        "  if (random.random()<prob):\n",
        "    return 1\n",
        "  else:\n",
        "    return 0\n",
        "\n",
        "\n",
        "#########################################################################\n",
        "# function : run_trials \n",
        "def run_trials(prob,n):\n",
        "  '''\n",
        "  run n trials with probability of prob\n",
        "  - returns the empirical probability of accept\n",
        "  '''\n",
        "  accept = 0\n",
        "  reject = 0\n",
        "\n",
        "  for i in range(0,n):\n",
        "    if (accept_with(prob) == 1):\n",
        "      accept = accept + 1\n",
        "    else:\n",
        "      reject = reject + 1\n",
        "\n",
        "  emp_prob = accept/(accept+reject)\n",
        "  \n",
        "  print(\"Probability = \"+str(prob)+\", accept =\"+str(accept)+\", reject =\"+str(reject)+\", empirical prob =\"+str(emp_prob))\n",
        "\n",
        "  return emp_prob\n",
        "\n",
        "#########################################################################\n",
        "# Test\n",
        "\n",
        "run_trials(0.3,10000)\n"
      ],
      "execution_count": 1,
      "outputs": [
        {
          "output_type": "stream",
          "name": "stdout",
          "text": [
            "Probability = 0.3, accept =3054, reject =6946, empirical prob =0.3054\n"
          ]
        },
        {
          "output_type": "execute_result",
          "data": {
            "text/plain": [
              "0.3054"
            ]
          },
          "metadata": {},
          "execution_count": 1
        }
      ]
    },
    {
      "cell_type": "code",
      "metadata": {
        "colab": {
          "base_uri": "https://localhost:8080/",
          "height": 1000
        },
        "id": "yZD7qCDhsd8H",
        "outputId": "e107bc2b-5828-4a20-8efe-042028063126"
      },
      "source": [
        "#########################################################################\n",
        "# More test\n",
        "\n",
        "prob = 0.3\n",
        "n = 10000\n",
        "trials = 100\n",
        "results = np.zeros(trials)\n",
        "\n",
        "for i in range(0,trials):\n",
        "  results[i] = run_trials(prob,n)\n",
        "\n",
        "plt.plot(results)\n"
      ],
      "execution_count": 2,
      "outputs": [
        {
          "output_type": "stream",
          "name": "stdout",
          "text": [
            "Probability = 0.3, accept =3037, reject =6963, empirical prob =0.3037\n",
            "Probability = 0.3, accept =2966, reject =7034, empirical prob =0.2966\n",
            "Probability = 0.3, accept =3033, reject =6967, empirical prob =0.3033\n",
            "Probability = 0.3, accept =3021, reject =6979, empirical prob =0.3021\n",
            "Probability = 0.3, accept =2946, reject =7054, empirical prob =0.2946\n",
            "Probability = 0.3, accept =2977, reject =7023, empirical prob =0.2977\n",
            "Probability = 0.3, accept =2952, reject =7048, empirical prob =0.2952\n",
            "Probability = 0.3, accept =2924, reject =7076, empirical prob =0.2924\n",
            "Probability = 0.3, accept =3028, reject =6972, empirical prob =0.3028\n",
            "Probability = 0.3, accept =3078, reject =6922, empirical prob =0.3078\n",
            "Probability = 0.3, accept =2998, reject =7002, empirical prob =0.2998\n",
            "Probability = 0.3, accept =3043, reject =6957, empirical prob =0.3043\n",
            "Probability = 0.3, accept =2919, reject =7081, empirical prob =0.2919\n",
            "Probability = 0.3, accept =3114, reject =6886, empirical prob =0.3114\n",
            "Probability = 0.3, accept =2927, reject =7073, empirical prob =0.2927\n",
            "Probability = 0.3, accept =3028, reject =6972, empirical prob =0.3028\n",
            "Probability = 0.3, accept =2975, reject =7025, empirical prob =0.2975\n",
            "Probability = 0.3, accept =2983, reject =7017, empirical prob =0.2983\n",
            "Probability = 0.3, accept =2986, reject =7014, empirical prob =0.2986\n",
            "Probability = 0.3, accept =2936, reject =7064, empirical prob =0.2936\n",
            "Probability = 0.3, accept =3008, reject =6992, empirical prob =0.3008\n",
            "Probability = 0.3, accept =3004, reject =6996, empirical prob =0.3004\n",
            "Probability = 0.3, accept =2957, reject =7043, empirical prob =0.2957\n",
            "Probability = 0.3, accept =3042, reject =6958, empirical prob =0.3042\n",
            "Probability = 0.3, accept =3037, reject =6963, empirical prob =0.3037\n",
            "Probability = 0.3, accept =2975, reject =7025, empirical prob =0.2975\n",
            "Probability = 0.3, accept =2994, reject =7006, empirical prob =0.2994\n",
            "Probability = 0.3, accept =2954, reject =7046, empirical prob =0.2954\n",
            "Probability = 0.3, accept =3094, reject =6906, empirical prob =0.3094\n",
            "Probability = 0.3, accept =3039, reject =6961, empirical prob =0.3039\n",
            "Probability = 0.3, accept =2952, reject =7048, empirical prob =0.2952\n",
            "Probability = 0.3, accept =3003, reject =6997, empirical prob =0.3003\n",
            "Probability = 0.3, accept =2938, reject =7062, empirical prob =0.2938\n",
            "Probability = 0.3, accept =2983, reject =7017, empirical prob =0.2983\n",
            "Probability = 0.3, accept =3040, reject =6960, empirical prob =0.304\n",
            "Probability = 0.3, accept =3056, reject =6944, empirical prob =0.3056\n",
            "Probability = 0.3, accept =2922, reject =7078, empirical prob =0.2922\n",
            "Probability = 0.3, accept =2983, reject =7017, empirical prob =0.2983\n",
            "Probability = 0.3, accept =2981, reject =7019, empirical prob =0.2981\n",
            "Probability = 0.3, accept =2997, reject =7003, empirical prob =0.2997\n",
            "Probability = 0.3, accept =3025, reject =6975, empirical prob =0.3025\n",
            "Probability = 0.3, accept =3021, reject =6979, empirical prob =0.3021\n",
            "Probability = 0.3, accept =2982, reject =7018, empirical prob =0.2982\n",
            "Probability = 0.3, accept =2983, reject =7017, empirical prob =0.2983\n",
            "Probability = 0.3, accept =3074, reject =6926, empirical prob =0.3074\n",
            "Probability = 0.3, accept =2979, reject =7021, empirical prob =0.2979\n",
            "Probability = 0.3, accept =2961, reject =7039, empirical prob =0.2961\n",
            "Probability = 0.3, accept =3040, reject =6960, empirical prob =0.304\n",
            "Probability = 0.3, accept =3018, reject =6982, empirical prob =0.3018\n",
            "Probability = 0.3, accept =3013, reject =6987, empirical prob =0.3013\n",
            "Probability = 0.3, accept =3068, reject =6932, empirical prob =0.3068\n",
            "Probability = 0.3, accept =2945, reject =7055, empirical prob =0.2945\n",
            "Probability = 0.3, accept =2932, reject =7068, empirical prob =0.2932\n",
            "Probability = 0.3, accept =3042, reject =6958, empirical prob =0.3042\n",
            "Probability = 0.3, accept =3016, reject =6984, empirical prob =0.3016\n",
            "Probability = 0.3, accept =2901, reject =7099, empirical prob =0.2901\n",
            "Probability = 0.3, accept =2893, reject =7107, empirical prob =0.2893\n",
            "Probability = 0.3, accept =2991, reject =7009, empirical prob =0.2991\n",
            "Probability = 0.3, accept =2982, reject =7018, empirical prob =0.2982\n",
            "Probability = 0.3, accept =3079, reject =6921, empirical prob =0.3079\n",
            "Probability = 0.3, accept =2963, reject =7037, empirical prob =0.2963\n",
            "Probability = 0.3, accept =3029, reject =6971, empirical prob =0.3029\n",
            "Probability = 0.3, accept =2990, reject =7010, empirical prob =0.299\n",
            "Probability = 0.3, accept =3017, reject =6983, empirical prob =0.3017\n",
            "Probability = 0.3, accept =3030, reject =6970, empirical prob =0.303\n",
            "Probability = 0.3, accept =3048, reject =6952, empirical prob =0.3048\n",
            "Probability = 0.3, accept =3012, reject =6988, empirical prob =0.3012\n",
            "Probability = 0.3, accept =2962, reject =7038, empirical prob =0.2962\n",
            "Probability = 0.3, accept =2932, reject =7068, empirical prob =0.2932\n",
            "Probability = 0.3, accept =3029, reject =6971, empirical prob =0.3029\n",
            "Probability = 0.3, accept =3006, reject =6994, empirical prob =0.3006\n",
            "Probability = 0.3, accept =2961, reject =7039, empirical prob =0.2961\n",
            "Probability = 0.3, accept =3002, reject =6998, empirical prob =0.3002\n",
            "Probability = 0.3, accept =2974, reject =7026, empirical prob =0.2974\n",
            "Probability = 0.3, accept =2963, reject =7037, empirical prob =0.2963\n",
            "Probability = 0.3, accept =2971, reject =7029, empirical prob =0.2971\n",
            "Probability = 0.3, accept =3034, reject =6966, empirical prob =0.3034\n",
            "Probability = 0.3, accept =3058, reject =6942, empirical prob =0.3058\n",
            "Probability = 0.3, accept =2958, reject =7042, empirical prob =0.2958\n",
            "Probability = 0.3, accept =2961, reject =7039, empirical prob =0.2961\n",
            "Probability = 0.3, accept =2950, reject =7050, empirical prob =0.295\n",
            "Probability = 0.3, accept =2985, reject =7015, empirical prob =0.2985\n",
            "Probability = 0.3, accept =2982, reject =7018, empirical prob =0.2982\n",
            "Probability = 0.3, accept =2976, reject =7024, empirical prob =0.2976\n",
            "Probability = 0.3, accept =2998, reject =7002, empirical prob =0.2998\n",
            "Probability = 0.3, accept =3025, reject =6975, empirical prob =0.3025\n",
            "Probability = 0.3, accept =3001, reject =6999, empirical prob =0.3001\n",
            "Probability = 0.3, accept =3004, reject =6996, empirical prob =0.3004\n",
            "Probability = 0.3, accept =3026, reject =6974, empirical prob =0.3026\n",
            "Probability = 0.3, accept =2983, reject =7017, empirical prob =0.2983\n",
            "Probability = 0.3, accept =3039, reject =6961, empirical prob =0.3039\n",
            "Probability = 0.3, accept =3044, reject =6956, empirical prob =0.3044\n",
            "Probability = 0.3, accept =2977, reject =7023, empirical prob =0.2977\n",
            "Probability = 0.3, accept =2952, reject =7048, empirical prob =0.2952\n",
            "Probability = 0.3, accept =3045, reject =6955, empirical prob =0.3045\n",
            "Probability = 0.3, accept =2957, reject =7043, empirical prob =0.2957\n",
            "Probability = 0.3, accept =2966, reject =7034, empirical prob =0.2966\n",
            "Probability = 0.3, accept =3000, reject =7000, empirical prob =0.3\n",
            "Probability = 0.3, accept =2945, reject =7055, empirical prob =0.2945\n",
            "Probability = 0.3, accept =2970, reject =7030, empirical prob =0.297\n"
          ]
        },
        {
          "output_type": "execute_result",
          "data": {
            "text/plain": [
              "[<matplotlib.lines.Line2D at 0x7f6a71f3b410>]"
            ]
          },
          "metadata": {},
          "execution_count": 2
        },
        {
          "output_type": "display_data",
          "data": {
            "image/png": "[encoded data removed]",
            "text/plain": [
              "<Figure size 432x288 with 1 Axes>"
            ]
          },
          "metadata": {
            "needs_background": "light"
          }
        }
      ]
    }
  ]
}