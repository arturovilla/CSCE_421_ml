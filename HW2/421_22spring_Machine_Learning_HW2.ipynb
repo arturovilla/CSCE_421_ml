{
  "nbformat": 4,
  "nbformat_minor": 0,
  "metadata": {
    "colab": {
      "name": "421-22spring Machine Learning HW2 CANVAS.ipynb",
      "provenance": [],
      "collapsed_sections": []
    },
    "kernelspec": {
      "name": "python3",
      "display_name": "Python 3"
    }
  },
  "cells": [
    {
      "cell_type": "markdown",
      "metadata": {
        "id": "KVIzCUdsHJf9"
      },
      "source": [
        "\n",
        "# CSCE421 Spring 2022\n",
        "# Machine Learning Homework 2\n",
        "\n",
        "Total 100 pts (honor section: total 125 pts, to be scaled to 100 pts)\n",
        "\n",
        "Instructor: Yoonsuck Choe\n",
        "\n",
        "Feb 20, 2022\n",
        "\n",
        "\n",
        "\n",
        "**Student name:** Lastname, Firstname\n",
        "\n",
        "---\n"
      ]
    },
    {
      "cell_type": "markdown",
      "metadata": {
        "id": "qxuMldsVKyjt"
      },
      "source": [
        "# Common instructions (Read carefully)\n",
        "\n",
        "Hint: Go to View $\\rightarrow$ Collapse sections to quickly jump to the problems you are working on. "
      ]
    },
    {
      "cell_type": "markdown",
      "metadata": {
        "id": "NQ09vRUj3kvt"
      },
      "source": [
        "**Submission:**\n",
        "\n",
        "1. Rename the file to **421-22spring Machine Learning HW2 - lastname firstname.ipynb**.\n",
        "2. After you complete each section, \"Save and pin\" the revision. (**File -> Save and pin revision**). \n",
        "> There will be a 20-point penalty for not including revision history in the submission as instructed below.\n",
        "3. When you're ready to submit, \n",
        "> 1. download the ipynb file (**File -> Download .ipynb**).\n",
        "> 2. take screenshot of revision history, by comparing each successive pinned revisions (there will be several of these: final vs. latest pin, latest pin vs. previous pin, etc.). (**File -> Revision history**, then click on the radio buttons for pinned revisions to compare. Scroll down to the part that shows the major revised part, and take a screenshot. No need to show the entire revision history.)\n",
        ">> Important: Unselect \"[ ] Show output\" to suppress diff of execution outputs.\n",
        ">> Jupyter notebook: If you're using Jupyter notebook on your local machine, run %history -g -f filename.log  and submit the log file. \n",
        "> 3. submit a zip file **lastname-firstname.zip** containing the ipynb file and all revision screenshots.\n",
        "\n",
        "**Using the markdown language in the \"text\" boxes:**\n",
        "\n",
        "Note: See https://colab.research.google.com/notebooks/markdown_guide.ipynb#scrollTo=70pYkR9LiOV0 for how to use the markdown when writing your answer in the text boxes.\n",
        "\n",
        "\n",
        "**NEW: Including images/screenshots**\n",
        "\n",
        "When including screenshots directly into the text cell, the markup source can get too long. To avoid this, you can upload your images to google drive, make them publicly viewable, get the share link, get the id string  from the link (for example, 1IDUkDGqQ1xSKOT3Wg8SKgAlKsDIdUQUy), and insert a tag like below:  \n",
        "```\n",
        "<img src=\"https://drive.google.com/uc?export=view&id=1IDUkDGqQ1xSKOT3Wg8SKgAlKsDIdUQUy\"> \n",
        "```\n",
        "\n"
      ]
    },
    {
      "cell_type": "markdown",
      "metadata": {
        "id": "iwVHXW2ppfSs"
      },
      "source": [
        "# Section I. Deterministic Case (total 100 points)\n",
        "\n",
        "Consider the following reinforcement learning problem.\n",
        "\n",
        "\n",
        "<figure>\n",
        "<center>\n",
        "<!--img src=\"https://drive.google.com/uc?export=view&id=1cf4TxyswhVtm1pz5AMBPETXPat-9CmsA\" width=\"250\"-->\n",
        "<img src=\"https://github.com/yschoe/pub-data/blob/main/grid-goal6.png?raw=true\">\n",
        "<figcaption>Figure 1</figcaption></center>\n",
        "</figure>\n",
        "\n",
        "*   There are 12 states, and the actions are $\\{ up, down, left, right \\}$. Legal actions are those that go to the immediate neighbor, horizontally or vertically (but not diagonally). State $s_6$ is the goal state, and all actions here lead back to itself with reward 0.\n",
        "\n",
        "*   The rewards for all action are 0, except for all actions that lead into $s_6$, which are 100 (as shown in the figure).\n",
        "\n",
        "*   In all cases, assume $\\gamma = 0.9$.\n",
        "\n",
        "* Initially, all $Q(s,a) = 0$.\n",
        "\n",
        "\n"
      ]
    },
    {
      "cell_type": "markdown",
      "source": [
        "\n",
        "\n",
        "# Problem 1 (Written: 10pts)"
      ],
      "metadata": {
        "id": "YNOkz5jIY_MQ"
      }
    },
    {
      "cell_type": "markdown",
      "metadata": {
        "id": "oi_b-wLF4v-L"
      },
      "source": [
        "**Problem 1 (Written: 10pts):**\n",
        "\n",
        "Consider the state action sequence of ($s_5$,left), ($s_4$, down), ($s_7$, left), and suppose the $Q(s,a)$ values were updated during each move. \n",
        "\n",
        "(1) With initial $Q(s,a)=0$ for all $(s,a)$, after one such pass, what would the resulting $Q(s,a)$ values be? \n",
        "* Note: Since one such pass has three actions, three $Q(s,a)$ values will be updated. \n",
        "* Note: Some values may be updated from 0 to 0, but this still counts as an update.  \n",
        "\n",
        "(2) After two such passes, what would be the resulting $Q(s,a)$ values?\n",
        "\n",
        "(3) After three such passes, what would be the resulting $Q(s,a)$ values?\n",
        "\n",
        "(4) After four such passes, what would be the resulting $Q(s,a)$ values?\n"
      ]
    },
    {
      "cell_type": "markdown",
      "metadata": {
        "id": "zZogM3XXFZrQ"
      },
      "source": [
        "**Answer**\n",
        "\n",
        "(1)\n",
        "\n",
        "(2)\n",
        "\n",
        "(3)\n",
        "\n",
        "(4)"
      ]
    },
    {
      "cell_type": "markdown",
      "source": [
        "\n",
        "\n",
        "\n",
        "\n",
        "# Problem 2 (Written: 10pts)"
      ],
      "metadata": {
        "id": "ChzNRyibZNPX"
      }
    },
    {
      "cell_type": "markdown",
      "metadata": {
        "id": "ghpOAgZQ2w8F"
      },
      "source": [
        "**Problem 2 (Written: 10pts):**\n",
        "\n",
        "(1) Manually compute the optimal $V^*(s)$ for all states $s_0, s_1, ... s_{11}$. See slide04.pdf, page 14. \n",
        "\n",
        "* The optimal policy $\\pi^*$ is pretty straight-forward: Action that takes you to the next state that is one of the shortest path to the goal state (there could be one, or two or more such paths, depending on yout start state). \n",
        "\n",
        "* It is best if you start from $s_6$ and work backward: $s_6$, then all states that can reach $s_6$ in one move (they are $s_3, s_7, s_9$), then all states that can reach $s_6$ in two moves, etc. \n",
        "\n",
        "* Hint: based on how many moves a state $s$ is away from the goal state, $V^*(s)$ has a form of $0 + \\gamma 0 + \\gamma^2 0 + \\gamma^3 100 + \\gamma^4 0 + ... = 0 + 0 + 0 + \\gamma^3 100 + 0 + 0 + ... = \\gamma^3 100 = 0.9^3 * 100 = 72.9$ (in case of four moves).  \n",
        "\n",
        "(2) Manually compute the optimal $Q(s,a)$ for all $(s,a)$. See slide04.pdf, page 26. You can quickly and directly compute this from $V^*(s)$ above, and the $r(s,a)$ (Figure 1). No need to recursively evaluate $Q(s,a)$. \n",
        "\n",
        "* Note: $Q(s,a) = r(s,a) + \\gamma V^*(\\delta(s,a))$\n",
        "\n"
      ]
    },
    {
      "cell_type": "markdown",
      "metadata": {
        "id": "Kgch2BncIcEq"
      },
      "source": [
        "**Answer**\n",
        "\n",
        "(1)\n",
        "\n",
        "(2)\n"
      ]
    },
    {
      "cell_type": "markdown",
      "source": [
        "\n",
        "\n",
        "# Problem 3 (Program: 40pts)"
      ],
      "metadata": {
        "id": "W3dM5K0qZT_a"
      }
    },
    {
      "cell_type": "markdown",
      "metadata": {
        "id": "euhLzgf-pieu"
      },
      "source": [
        "**Problem 3 (Program: 40 pts):**\n",
        "\n",
        "Modify the fully functioning Q-learning algorithm in the code cell below, to learn the $Q(s,a)$ values for the above\n",
        "example (Figure 1). Use the algorithm in slide04.pdf, Page 22. Note: There are slight differences between the slide and the fully functioning code below. Use the code below as the definitive reference. \n",
        "\n",
        "* First, try a fixed number of iterations to train. You will have to experiment with different numbers for this.  \n",
        "* Next, you have to find out what stopping criterion to use. The code below shows a fixed number of iterations. Change it to something that measures convergence. \n",
        "  * For example, observe the sum of difference in the entire $Q$ table from step $n-1$ to step $n$: $\\sum_{s,a \\in S,A} | Q_n(s,a) - Q_{n-1}(s,a)|$, and stop when the difference drops below a certain level (try 0.01 first, and lower or raise it). You have to find this out empirically.\n",
        "  * Alternatively, you can try checking the running average of the above Q table difference against a threshold. Code for this running average is already included. You can control the running average rate by adjusting ```args.run_avg_rate```.   \n",
        "* Use a random policy to select action $a$ given current random state $s$ (note: this is also different from the slide). You will find that this can be achieved by just setting the ```args.epsilon``` parameter in the provided code.\n",
        "\n",
        "(1) Directly modify the code below.\n",
        "\n",
        "(2) Show resulting Q table ($12 \\times 4$ matrix).\n",
        "\n",
        "* Rows represent states and columns represent actions.\n",
        "* Row ordering should be $s_0, s_1, s_2, ... , s_{11}$, from top to bottom.\n",
        "* Column ordering should be $up, down, left, right$, from left to right. \n",
        "* **Note: do not change the above ordering! You will be penalized if you do so.**\n",
        "* Set (s,a) of Q and other matrices to $-1$ to mark illegal moves. \n",
        "\n",
        "(3) Write a new function to compute the $V(s)$ values for all $s_0, s_1, ... , s_{11}$, from the resulting $Q(s,a)$ values. Print the $V(s)$ values in the layout of Figure 1. \n",
        "\n",
        "(4) Show a plot showing the running average of $\\sum_{s,a \\in S,A} | Q_{t+1}(s,a) - Q_t(s,a)|$ over the iterations.\n",
        "\n",
        "(5) Compare the outcomes above with the V values and the Q table you manually calculated in problem 2.\n",
        "\n",
        "*). Note: This problem is mostly an exercise of just changing the environment (state transition matrix, and the reward matrix, according to Figure 1). Most of the requirement above, including the Q-table print out, computing the running average of difference in Q over time, and the plotting of the running average are already in the code. Read the instructions at the top of the code cell below, and try running it with different parameters to get your self familiarized with the code. Then change the \"Environment set up\" section where it is marked with \"modify\". The only real code you need to write is to write the function for computing $V(s)$. \n"
      ]
    },
    {
      "cell_type": "code",
      "metadata": {
        "colab": {
          "base_uri": "https://localhost:8080/",
          "height": 1000
        },
        "id": "6_lMC5RyuVoo",
        "outputId": "f9391824-a4e7-433e-83e9-51fc6a78ed92"
      },
      "source": [
        "#!/usr/bin/python\n",
        "\n",
        "# qlearn.py : simple discrete, deterministic Q-learning \n",
        "#\n",
        "# Requires: numpy, pandas, matplotlib\n",
        "#\n",
        "# Yoonsuck Choe\n",
        "# choe@tamu.edu\n",
        "#\n",
        "# 2021. 02. 17. (wed) 09:00:58 KST\n",
        "# 2021. 02. 18. (thu) 00:09:00 KST\n",
        "#\n",
        "# Getting started:\n",
        "# \n",
        "# - pick between \"console\" mode (for command line) or \"notebook\" mode (for colab, etc). \n",
        "#     See the config section.\n",
        "# \n",
        "#     mode  = \"console\"\n",
        "#\n",
        "# Suggested experiments:\n",
        "#\n",
        "# - change epsilon: \n",
        "#     0.1, 0.25, 0.5 (default), 0.8, 1.0 and see how the Q diff plot looks like (how fast \n",
        "#     learning converges.\n",
        "#    \n",
        "#     ./qlearn.pl --epsilon=0.25 \n",
        "#\n",
        "#     or, for notebook mode\n",
        "# \n",
        "#     args.epsilon = 0.25\n",
        "#     qlearn()\n",
        "# \n",
        "# - change alpha: \n",
        "#     0.1, 0.25, 0.5, 0.8, 1.0 (default) and see how the Q diff plot looks like (how fast \n",
        "#     learning converges.\n",
        "# \n",
        "#     ./qlearn.pl --alpha=0.25 \n",
        "# \n",
        "#     or, for notebook mode\n",
        "# \n",
        "#     args.alpha= 0.25\n",
        "#     qlearn()\n",
        "# \n",
        "# - try a new grid world environment (change section below \"Environment set up\".\n",
        "#     search for \"modify\"\n",
        "#\n",
        "#\n",
        "\n",
        "import numpy as np\n",
        "import pandas as pd\n",
        "import random \n",
        "import argparse, sys\n",
        "import matplotlib.pyplot as plt\n",
        "\n",
        "#--------------------\n",
        "# config (more config below : search for \"modify\" \n",
        "#\n",
        "# - for colab, etc, use the \"notebook\" mode\n",
        "#--------------------\n",
        "\n",
        "# mode=\"console\"\n",
        "mode=\"notebook\" \n",
        "\n",
        "#--------------------\n",
        "# console mode: process command line arguments\n",
        "#--------------------\n",
        "def parse_args():\n",
        "\n",
        "  cmd = argparse.ArgumentParser(formatter_class=argparse.ArgumentDefaultsHelpFormatter)\n",
        "  cmd.add_argument('--alpha', type=float, default=\"1.0\", help=\"mixing rate\")\n",
        "  cmd.add_argument('--gamma', type=float, default=\"0.9\", help=\"discount rate\")\n",
        "  cmd.add_argument('--epsilon', type=float, default=\"0.5\", help=\"discount rate\")\n",
        "  cmd.add_argument('--num_iter', type=int, default=\"300\", help=\"number of iterations to run\")\n",
        "  cmd.add_argument('--run_avg_rate', type=float, default=\"0.95\", help=\"number of iterations to run\")\n",
        "  cmd.add_argument('--display_flag', type=str, default=\"True\", help=\"display Q table after each iteration?\")\n",
        "\n",
        "  return cmd.parse_args()\n",
        "\n",
        "#--------------------\n",
        "# notebook mode: process command line arguments\n",
        "#--------------------\n",
        "class argclass:\n",
        "\n",
        "  def __init__(self):\n",
        "\n",
        "    self.alpha = 1.0\n",
        "    self.gamma = 0.9\n",
        "    self.epsilon = 0.5\n",
        "    self.num_iter = 300\n",
        "    self.run_avg_rate = 0.95\n",
        "    self.display_flag = \"True\"\n",
        "\n",
        "#--------------------\n",
        "# select mode \n",
        "#--------------------\n",
        "if (mode==\"console\"):\n",
        "\n",
        "  args = parse_args()\n",
        "\n",
        "elif (mode==\"notebook\"):\n",
        "\n",
        "  args = argclass()\n",
        "\n",
        "else:\n",
        "\n",
        "  print(\"Invalid mode: check the config\")\n",
        "  exit()\n",
        "\n",
        "#--------------------\n",
        "# find sum of absolute difference in the two table values\n",
        "#--------------------\n",
        "def df_diff(df1, df2):\n",
        "\n",
        "  d = df1-df2\n",
        "  return d.abs().to_numpy().sum() \n",
        "\n",
        "#----------------------------------------------------------------------------\n",
        "#\n",
        "# Environment set up : modify this part to change the environment\n",
        "#\n",
        "#----------------------------------------------------------------------------\n",
        "\n",
        "#--------------------\n",
        "# state index : modify\n",
        "#\n",
        "# layout =  (*) marks the goal. \n",
        "# \n",
        "# s0 s1 (s2)\n",
        "# s3 s4 s5 \n",
        "# \n",
        "#   * (s1,right) and (s5,up) has reward 100, all others are 0.\n",
        "#   * All actions in s2 lead back to s2, with reward 0.\n",
        "#\n",
        "#--------------------\n",
        "s_index = [\"s0\", \"s1\", \"s2\", \"s3\", \"s4\", \"s5\"] \n",
        "\n",
        "#--------------------\n",
        "# state transition table : modify \n",
        "#--------------------\n",
        "delta = pd.DataFrame(\n",
        "\t{ \n",
        "\t  \"up\"   : pd.Series(np.array([-1,-1, 2, 0, 1, 2]),index=s_index),\n",
        "\t  \"down\" : pd.Series(np.array([ 3, 4, 2,-1,-1,-1]),index=s_index),\n",
        "\t  \"left\" : pd.Series(np.array([-1, 0, 2,-1, 3, 4]),index=s_index),\n",
        "\t  \"right\": pd.Series(np.array([ 1, 2, 2, 4, 5,-1]),index=s_index)\n",
        "\t}\n",
        ")\n",
        "\n",
        "#--------------------\n",
        "# reward table : modify\n",
        "#--------------------\n",
        "reward = pd.DataFrame(\n",
        "\t{ \n",
        "\t  \"up\"   : pd.Series(np.array([-1, -1,  0,  0,  0,100]),index=s_index),\n",
        "\t  \"down\" : pd.Series(np.array([ 0,  0,  0, -1, -1, -1]),index=s_index),\n",
        "\t  \"left\" : pd.Series(np.array([-1,  0,  0, -1,  0,  0]),index=s_index),\n",
        "\t  \"right\": pd.Series(np.array([ 0,100,  0,  0,  0, -1]),index=s_index)\n",
        "\t}\n",
        ")\n",
        "\n",
        "print(\"\\n\\nDelta\")\n",
        "print(delta)\n",
        "\n",
        "print(\"\\n\\nReward\")\n",
        "print(reward)\n",
        "\n",
        "#--------------------\n",
        "# goal state : modify\n",
        "#--------------------\n",
        "goal = 2\n",
        "\n",
        "#----------------------------------------------------------------------------\n",
        "#\n",
        "# Main algorithm : no need to modify much below here (for the deterministic case)\n",
        "#\n",
        "#----------------------------------------------------------------------------\n",
        "\n",
        "def qlearn(): \n",
        "\n",
        "  # extract number of states\n",
        "  num_states = len(s_index)\n",
        "  num_actions = 4\n",
        "  \n",
        "  # set up (s,a) visit count\n",
        "  visits = (delta>=0).astype(int)-1\n",
        "  run_avg = 0\n",
        "  \n",
        "  #--------------------\n",
        "  # (1) Initialize Q table to zeros (-1 for invalid actions)\n",
        "  #\n",
        "  # - Reuse delta table to filter out invalid moves and set others to zero\n",
        "  #--------------------\n",
        " \n",
        "  Q=(delta>=0).astype(float)-1 \n",
        "\n",
        "  old_Q = Q.copy(deep=True) \n",
        "  \n",
        "  print(\"\\n\\nQ: initial\")\n",
        "  print(Q)\n",
        "  \n",
        "  #--------------------\n",
        "  # (2) Main loop\n",
        "  #--------------------\n",
        "  \n",
        "  d = np.zeros(args.num_iter)\n",
        "  \n",
        "  for n in range(args.num_iter):\n",
        "    \n",
        "    #----------\n",
        "    # 1. s : randomly select state   \n",
        "    #----------\n",
        "  \n",
        "    s = random.randint(0,num_states-1)\n",
        "  \n",
        "    while (s==goal): # avoid goal state\n",
        "      s = random.randint(0,num_states-1)\n",
        "      \n",
        "    #----------\n",
        "    # 2. a : choose action (epsilon greedy policy)\n",
        "    #----------\n",
        "  \n",
        "    if (random.random() < (1-args.epsilon)):\n",
        "  \n",
        "      # greedy action:\n",
        "      a = Q.iloc[s,:].argmax()\n",
        "  \n",
        "    else:\n",
        "  \n",
        "      # random action\n",
        "      a = random.randint(0,num_actions-1)\n",
        "  \n",
        "      while (delta.iloc[s,a]==-1): # avoid invalid action\n",
        "        a = random.randint(0,num_actions-1)\n",
        "  \n",
        "    #----------\n",
        "    # 3. train\n",
        "    #----------\n",
        "  \n",
        "    visits.iloc[s,a] = visits.iloc[s,a]+1\n",
        "\n",
        "    alpha = args.alpha\n",
        "    gamma = args.gamma\n",
        "  \n",
        "    # 3.1 find next state from (s,a)\n",
        "  \n",
        "    s_next = delta.iloc[s,a]\n",
        "  \n",
        "    # 3.2 update Q\n",
        "  \n",
        "    # Equation is: Q(s,a) = (1-alpha) x Q(s,a) + alpha*( r(s,a) + gamma * max_a' Q(s',a') )\n",
        "    Q.iloc[s,a] = (1.0-alpha)*Q.iloc[s,a] + alpha*(reward.iloc[s,a] + gamma*Q.iloc[s_next,:].max())\n",
        "  \n",
        "  \n",
        "    # 3.3 compute running average of the sum of Q(n) minus Q(n-1)\n",
        "  \n",
        "    d[n] = args.run_avg_rate * run_avg + (1-args.run_avg_rate) * df_diff(Q,old_Q)\n",
        "    run_avg = d[n]\n",
        "    old_Q = Q.copy(deep=True)\n",
        "   \n",
        "\n",
        "\n",
        "    # 3.3 print current Q and running average of Q diff.\n",
        "  \n",
        "    if (args.display_flag == \"True\"):\n",
        "  \n",
        "      print(\"\\nQ : iter=\"+str(n))\n",
        "      print(Q)\n",
        "      print(\"diff = \"+str(d[n]))\n",
        "\n",
        "    if (n>50  and run_avg < 0.01):\n",
        " \n",
        "        break\n",
        "\n",
        "  #--------------------\n",
        "  # (3) Print final Q table  and (s,a) visit count table\n",
        "  #--------------------\n",
        "  print(\"\\nFinal Q table\\n\")\n",
        "  print(Q)\n",
        "  \n",
        "  print(\"\\nFinal visit count table\\n\")\n",
        "  print(visits)\n",
        "  \n",
        "  #--------------------\n",
        "  # (4) Plot diff Q(n), Q(n-1) running average\n",
        "  #--------------------\n",
        "  plt.title(\"Difference in Q table values over time: Running average, rate=\"+str(args.run_avg_rate))\n",
        "  plt.xlabel(\"Iteration\")\n",
        "  plt.ylabel(\"Diff in Q table values\")\n",
        "  plt.plot(d)\n",
        "  plt.show()\n",
        "\n",
        "  print(\"diff in Q reached below 0.01 at iteration = \"+str(n))\n",
        "\n",
        "#-- end of qlearn() function def\n",
        "\n",
        "#----------------------------------------------------------------------------\n",
        "# Run the qlearn main function\n",
        "#\n",
        "# - if you're using notebook mode, you can change the argument and rerun\n",
        "#   in the interactive session (create a new cell and put the following lines in it).\n",
        "#   \n",
        "#    args.epsilon = 0.8\n",
        "#    qlearn()\n",
        "#\n",
        "#----------------------------------------------------------------------------\n",
        "\n",
        "args.display_flag = \"False\"  # Set this to \"True\" to see the changing Q table over time.\n",
        "args.epsilon = 1.0\n",
        "qlearn()\n",
        "\n",
        "# after you run it, check if your Delta (state transition table) and the Reward table are accurate, compared to Figure 1. "
      ],
      "execution_count": null,
      "outputs": [
        {
          "output_type": "stream",
          "name": "stdout",
          "text": [
            "\n",
            "\n",
            "Delta\n",
            "    up  down  left  right\n",
            "s0  -1     3    -1      1\n",
            "s1  -1     4     0      2\n",
            "s2   2     2     2      2\n",
            "s3   0    -1    -1      4\n",
            "s4   1    -1     3      5\n",
            "s5   2    -1     4     -1\n",
            "\n",
            "\n",
            "Reward\n",
            "     up  down  left  right\n",
            "s0   -1     0    -1      0\n",
            "s1   -1     0     0    100\n",
            "s2    0     0     0      0\n",
            "s3    0    -1    -1      0\n",
            "s4    0    -1     0      0\n",
            "s5  100    -1     0     -1\n",
            "\n",
            "\n",
            "Q: initial\n",
            "     up  down  left  right\n",
            "s0 -1.0   0.0  -1.0    0.0\n",
            "s1 -1.0   0.0   0.0    0.0\n",
            "s2  0.0   0.0   0.0    0.0\n",
            "s3  0.0  -1.0  -1.0    0.0\n",
            "s4  0.0  -1.0   0.0    0.0\n",
            "s5  0.0  -1.0   0.0   -1.0\n",
            "\n",
            "Final Q table\n",
            "\n",
            "       up  down  left  right\n",
            "s0   -1.0  72.9  -1.0   90.0\n",
            "s1   -1.0  81.0  81.0  100.0\n",
            "s2    0.0   0.0   0.0    0.0\n",
            "s3   81.0  -1.0  -1.0   81.0\n",
            "s4   90.0  -1.0  72.9   90.0\n",
            "s5  100.0  -1.0  81.0   -1.0\n",
            "\n",
            "Final visit count table\n",
            "\n",
            "    up  down  left  right\n",
            "s0  -1    17    -1     23\n",
            "s1  -1    14    12     11\n",
            "s2   0     0     0      0\n",
            "s3  13    -1    -1     17\n",
            "s4  13    -1    11     12\n",
            "s5  24    -1    16     -1\n"
          ]
        },
        {
          "output_type": "display_data",
          "data": {
            "image/png": "[encoded data removed]",
            "text/plain": [
              "<Figure size 432x288 with 1 Axes>"
            ]
          },
          "metadata": {
            "needs_background": "light"
          }
        },
        {
          "output_type": "stream",
          "name": "stdout",
          "text": [
            "diff in Q reached below 0.01 at iteration = 182\n"
          ]
        }
      ]
    },
    {
      "cell_type": "code",
      "metadata": {
        "colab": {
          "base_uri": "https://localhost:8080/",
          "height": 833
        },
        "id": "8kFhz-tzfRgm",
        "outputId": "51177b0b-1cfa-4714-ad9a-9e3b901d13b0"
      },
      "source": [
        "# You can also easily run a different experiment in its own code cell, like below,\n",
        "# with a different set of parameters\n",
        "\n",
        "args.epsilon=0.2\n",
        "args.run_avg_rate = 0.99\n",
        "qlearn()"
      ],
      "execution_count": null,
      "outputs": [
        {
          "output_type": "stream",
          "name": "stdout",
          "text": [
            "\n",
            "\n",
            "Q: initial\n",
            "     up  down  left  right\n",
            "s0 -1.0   0.0  -1.0    0.0\n",
            "s1 -1.0   0.0   0.0    0.0\n",
            "s2  0.0   0.0   0.0    0.0\n",
            "s3  0.0  -1.0  -1.0    0.0\n",
            "s4  0.0  -1.0   0.0    0.0\n",
            "s5  0.0  -1.0   0.0   -1.0\n",
            "\n",
            "Final Q table\n",
            "\n",
            "       up  down  left  right\n",
            "s0   -1.0  72.9  -1.0   90.0\n",
            "s1   -1.0  81.0  81.0  100.0\n",
            "s2    0.0   0.0   0.0    0.0\n",
            "s3   81.0  -1.0  -1.0   81.0\n",
            "s4   90.0  -1.0  72.9   90.0\n",
            "s5  100.0  -1.0  81.0   -1.0\n",
            "\n",
            "Final visit count table\n",
            "\n",
            "    up  down  left  right\n",
            "s0  -1    12    -1     51\n",
            "s1  -1     4     2     42\n",
            "s2   0     0     0      0\n",
            "s3  57    -1    -1      7\n",
            "s4  50    -1     3      6\n",
            "s5  60    -1     6     -1\n"
          ]
        },
        {
          "output_type": "display_data",
          "data": {
            "image/png": "[encoded data removed]",
            "text/plain": [
              "<Figure size 432x288 with 1 Axes>"
            ]
          },
          "metadata": {
            "needs_background": "light"
          }
        },
        {
          "output_type": "stream",
          "name": "stdout",
          "text": [
            "diff in Q reached below 0.01 at iteration = 299\n"
          ]
        }
      ]
    },
    {
      "cell_type": "markdown",
      "metadata": {
        "id": "nTfw0SVDdbNe"
      },
      "source": [
        "**Answer:**\n",
        "\n",
        "Modify the code cell above to make it to work. \n"
      ]
    },
    {
      "cell_type": "markdown",
      "source": [
        "# Problem 4 (Program: 20pts)"
      ],
      "metadata": {
        "id": "81bKXv_oZbwA"
      }
    },
    {
      "cell_type": "markdown",
      "metadata": {
        "id": "HwwQqSjJ1Iga"
      },
      "source": [
        "**Problem 4 (Program: 20 pts):**\n",
        "\n",
        "Experiment with the $\\epsilon$-greedy policy. You don't need to change any code. Just change the parameter and run qlearn(). \n",
        "\n",
        "Test with different $\\epsilon$ values to see how the $\\epsilon$-greedy policy behaves. For example, $\\epsilon \\in {0.0, 0.1, 0.3, 0.5, 0.8, 0.9, 1.0}$. Note: $\\epsilon = 0.0$ is the greedy policy and $\\epsilon = 1.0$ is the random policy. ($\\epsilon$-greedy chooses the greedy move with $(1-\\epsilon)$ probability.).\n",
        "\n",
        "(1) Which $\\epsilon$ value tend to converge fastest? For each $\\epsilon$ value, you can run multiple runs (say 5 times) and observe how long it too to converge, and take an average. You can then compare the average. \n",
        "\n",
        "(2) How does the number of visits table differ for different $\\epsilon$ values? Based on this, how do you think $\\epsilon$ affects exploration vs. exploitation? \n",
        "\n",
        "(3) Did some $\\epsilon$ value lead the algorithm not converging (the final Q table is different from the manually calculated table from Problem 2)? If so, why do you think it did not converge? \n"
      ]
    },
    {
      "cell_type": "markdown",
      "metadata": {
        "id": "giknCWPALGP3"
      },
      "source": [
        "**Answer**\n",
        "\n",
        "Run your experiments in the code cell below. \n",
        "\n",
        "(1)\n",
        "\n",
        "(2)\n",
        "\n",
        "(3)\n"
      ]
    },
    {
      "cell_type": "code",
      "metadata": {
        "colab": {
          "base_uri": "https://localhost:8080/",
          "height": 833
        },
        "id": "BYxGGNnaKfOJ",
        "outputId": "213d49c8-1565-4566-a876-d3966c243496"
      },
      "source": [
        "# You can quickly run multiple experiments without modifying the code above or copying and pasting the whole code. Just do something like this. Create a new code cell for a different experiment.\n",
        "\n",
        "# Q=(delta>0).astype(float)-1.0 + (delta>0)*np.random.rand(6,4)*0.001   # add small initial random value to break the tie \n",
        "args.display_flag = \"False\"\n",
        "args.epsilon = 0.1\n",
        "qlearn()"
      ],
      "execution_count": null,
      "outputs": [
        {
          "output_type": "stream",
          "name": "stdout",
          "text": [
            "\n",
            "\n",
            "Q: initial\n",
            "     up  down  left  right\n",
            "s0 -1.0   0.0  -1.0    0.0\n",
            "s1 -1.0   0.0   0.0    0.0\n",
            "s2  0.0   0.0   0.0    0.0\n",
            "s3  0.0  -1.0  -1.0    0.0\n",
            "s4  0.0  -1.0   0.0    0.0\n",
            "s5  0.0  -1.0   0.0   -1.0\n",
            "\n",
            "Final Q table\n",
            "\n",
            "       up  down  left  right\n",
            "s0   -1.0  72.9  -1.0    0.0\n",
            "s1   -1.0  81.0   0.0  100.0\n",
            "s2    0.0   0.0   0.0    0.0\n",
            "s3    0.0  -1.0  -1.0   81.0\n",
            "s4   90.0  -1.0  72.9   90.0\n",
            "s5  100.0  -1.0  81.0   -1.0\n",
            "\n",
            "Final visit count table\n",
            "\n",
            "    up  down  left  right\n",
            "s0  -1    50    -1      0\n",
            "s1  -1     3     4     49\n",
            "s2   0     0     0      0\n",
            "s3  34    -1    -1     20\n",
            "s4  63    -1     3      6\n",
            "s5  62    -1     6     -1\n"
          ]
        },
        {
          "output_type": "display_data",
          "data": {
            "image/png": "[encoded data removed]",
            "text/plain": [
              "<Figure size 432x288 with 1 Axes>"
            ]
          },
          "metadata": {
            "needs_background": "light"
          }
        },
        {
          "output_type": "stream",
          "name": "stdout",
          "text": [
            "diff in Q reached below 0.01 at iteration = 299\n"
          ]
        }
      ]
    },
    {
      "cell_type": "markdown",
      "metadata": {
        "id": "QnbIHjJydfDO"
      },
      "source": [
        "**Answer:**\n"
      ]
    },
    {
      "cell_type": "markdown",
      "source": [
        "\n",
        "\n",
        "# Problem 5 (Programming: 20pts)"
      ],
      "metadata": {
        "id": "3ok6Bgh5Zk-f"
      }
    },
    {
      "cell_type": "markdown",
      "metadata": {
        "id": "B3kArrZgDWAJ"
      },
      "source": [
        "**Problem 5 (Programming: 20)**\n",
        "\n",
        "Copy and paste the code in Problem 3, and change it to implement SARSA.\n",
        "\n",
        "Once you're done implementing, run a few experiments to determine whether the original Q learning in Problem 3 works faster, or if the SARSA algorithm works faster (faster to converge, given the same parameter conditions). The results my vary. Please write a detailed description of your experiment and results, and whether you find the simpler SARSA to be faster to converge than the original Q learning. \n"
      ]
    },
    {
      "cell_type": "markdown",
      "metadata": {
        "id": "ANnJJ3b1D7iW"
      },
      "source": [
        "**Answer**\n"
      ]
    },
    {
      "cell_type": "markdown",
      "metadata": {
        "id": "YxCLvEm918y2"
      },
      "source": [
        "# Honor Section Only\n",
        "# Section II. Stochastic Case (total 25 points)\n",
        "\n",
        "Consider a stochastic version of the reinforcement learning problem posed in Section 1 (figure copied below). Modify the rules so that:\n",
        "\n",
        "* $\\delta(s,a)$ is stochastic: The probability of landing in the intended direction is $0.70$. The probability of landing in one of $n$ unintended legal direction is $\\frac{0.30}{n}$.\n",
        "\n",
        "  * Example 1 : If you are in $s_0$ and action $a$ was $right$, probability of landing in $s_1$ is 0.70, and ending up in $s_3$ is 0.3. \n",
        "    * Note that $\\delta(s_0,right)=s_1$ and $\\delta(s_0,right)=s_3$, respectively.\n",
        "\n",
        "  * Example 2: If you are in $s_1$ and $a$ was $down$, probability of landing in $s_4$ is 0.70, ending up in $s_0$ is 0.15 (= 0.3/2), and ending up in $s_2$ is 0.15 (= 0.3/2). \n",
        "    * Note that $\\delta(s_1,down)=s_4$ and $\\delta(s_1,down)=s_2$, respectively.\n",
        "\n",
        "  * Example 3: If you are in $s_7$ and $a$ was $left$, probability of landing in $s_6$ is 0.70, ending up in $s_4$ is 0.1 (= 0.3/3), ending up in $s_8$ is 0.1 (= 0.3/3), and ending up in $s_{10}$ is 0.1 (= 0.3/3)\n",
        "    * Note that $\\delta(s_7,left)=s_6$, $\\delta(s_7,left)=s_4$, $\\delta(s_7,left)=s_{8}$, and $\\delta(s_7,left)=s_{10}$, respectively.\n",
        "\n",
        "* Reward $r(s,a)$ depends on where you landed based on the above. All rewards are 0 unless the resulting state was the goal state $s_6$. For example, if you were in $s_3$ and the action was $a=right$, with 15\\% chance you will land in $s_6$, the goal state. In this case $r(s_3, right) = 100$ for that specific run. In a different run, with the same action $right$, if you landed in $s_{0}$, then $r(s_1,right) = 0$. So, $r(s_3,right)$ can be either 0 or 100, depending on the random outcome.\n",
        "\n",
        "<figure>\n",
        "<center>\n",
        "<img src=\"https://github.com/yschoe/pub-data/blob/main/grid-goal6.png?raw=true\">\n",
        "<figcaption>Figure 2: Left = same as Figure 1 </figcaption></center>\n",
        "</figure>\n",
        "\n",
        "\n"
      ]
    },
    {
      "cell_type": "markdown",
      "source": [
        "# Problem 6 (Program: 25pts)"
      ],
      "metadata": {
        "id": "LfFEBfY6maNg"
      }
    },
    {
      "cell_type": "markdown",
      "metadata": {
        "id": "vOYVoYGg2CrN"
      },
      "source": [
        "**Problem 6 (Program: 25 pts):**\n",
        "\n",
        "Modify the program in problem 3, so that the environment acts stochastically, as defined in Problem 5. The code below shows how to generate random outcomes with a certain probability. \n",
        "\n",
        "The learning rule has to be modified to the one shown in slide04-rl.pdf, page 35. \n",
        "\n",
        "> $\\hat{Q}_n(s,a) \\leftarrow (1-\\alpha_n) \\hat{Q}_{n-1}(s,a) + \\alpha_n \\left[ r + \\gamma \\max_{a'} \\hat{Q}_{n-1}(s',a') \\right],$ \n",
        "> \n",
        "> where $\\alpha_n = \\frac{1}{1+visits_s(s,a)}$\n",
        "\n",
        "(1) Modify the code from problem 3.\n",
        "\n",
        "(2) Run the experiment, and show the resulting $Q$ table. You should experiment with the $\\alpha$ parameter to get the correct result. Use the random policy. $\\gamma = 0.9$, as usual.  \n",
        "\n"
      ]
    },
    {
      "cell_type": "markdown",
      "metadata": {
        "id": "JQr8LcjPgY4P"
      },
      "source": [
        "**Answer:**\n",
        "\n",
        "(1) Write your code in the code cell below.\n",
        "\n",
        "(2)\n",
        "\n",
        "\n"
      ]
    },
    {
      "cell_type": "code",
      "metadata": {
        "id": "zRKMMyJbvkWo"
      },
      "source": [
        "# Write your code here, for the nondeterministic Q-learning algorithm.\n"
      ],
      "execution_count": 1,
      "outputs": []
    },
    {
      "cell_type": "code",
      "metadata": {
        "id": "4qt9k76zJvay",
        "colab": {
          "base_uri": "https://localhost:8080/",
          "height": 600
        },
        "outputId": "546eb750-e1c0-4ea5-a768-850a63828fff"
      },
      "source": [
        "# Rejection method example code\n",
        "\n",
        "import numpy as np\n",
        "import matplotlib.pyplot as plt\n",
        "import random\n",
        "\n",
        "# 1. set up probability for 4 events\n",
        "P = np.array([0.2, 0.1, 0.4, 0.3])\n",
        "\n",
        "# 2. function definition: generate random event : returns \n",
        "def random_event(p):\n",
        "  \n",
        "  while (True):\n",
        "\n",
        "    a = random.randint(0,3) # generate rondom event \"a\"\n",
        "    r = random.random()  \n",
        "\n",
        "    if (r <= p[a]):  \n",
        "      # accept event \"a\"!\n",
        "      return a\n",
        "    else:\n",
        "      # reject event \"a\" and repeat\n",
        "      continue\n",
        "\n",
        "# 3. simulation \n",
        "\n",
        "n = 1000\n",
        "\n",
        "outcome = np.zeros(n)\n",
        "\n",
        "for i in range(n):\n",
        "  outcome[i] = random_event(P)\n",
        "\n",
        "# 4. plot sampled events\n",
        "fig=plt.figure()\n",
        "plt.plot(outcome,\".\",markersize=0.5)\n",
        "\n",
        "# 5. plot histogram : Note: for event 0, 1, 2, 3, the count would be around 200, 100, 400, and 300. \n",
        "\n",
        "fig2=plt.figure()\n",
        "plt.hist(outcome,bins='auto')\n"
      ],
      "execution_count": 2,
      "outputs": [
        {
          "output_type": "execute_result",
          "data": {
            "text/plain": [
              "(array([197.,   0.,   0., 106.,   0.,   0.,   0., 392.,   0.,   0., 305.]),\n",
              " array([0.        , 0.27272727, 0.54545455, 0.81818182, 1.09090909,\n",
              "        1.36363636, 1.63636364, 1.90909091, 2.18181818, 2.45454545,\n",
              "        2.72727273, 3.        ]),\n",
              " <a list of 11 Patch objects>)"
            ]
          },
          "metadata": {},
          "execution_count": 2
        },
        {
          "output_type": "display_data",
          "data": {
            "image/png": "[encoded data removed]",
            "text/plain": [
              "<Figure size 432x288 with 1 Axes>"
            ]
          },
          "metadata": {
            "needs_background": "light"
          }
        },
        {
          "output_type": "display_data",
          "data": {
            "image/png": "[encoded data removed]",
            "text/plain": [
              "<Figure size 432x288 with 1 Axes>"
            ]
          },
          "metadata": {
            "needs_background": "light"
          }
        }
      ]
    }
  ]
}